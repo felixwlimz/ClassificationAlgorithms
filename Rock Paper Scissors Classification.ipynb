{
  "cells": [
    {
      "cell_type": "code",
      "execution_count": 120,
      "metadata": {
        "colab": {
          "base_uri": "https://localhost:8080/"
        },
        "id": "hxtNMc8dNDVe",
        "outputId": "2a18f6bc-4c1f-4376-a4bf-f8d2a8c68f71"
      },
      "outputs": [
        {
          "output_type": "stream",
          "name": "stdout",
          "text": [
            "Requirement already satisfied: split-folders in /usr/local/lib/python3.10/dist-packages (0.5.1)\n"
          ]
        }
      ],
      "source": [
        "pip install split-folders"
      ]
    },
    {
      "cell_type": "markdown",
      "source": [
        "##### Name : Felix Winston\n",
        "##### Domisili : Medan\n",
        "##### Kelas : Dicoding Machine Learning"
      ],
      "metadata": {
        "id": "Ai3ZcpXh_3Y6"
      }
    },
    {
      "cell_type": "code",
      "source": [
        "import zipfile,os\n",
        "import splitfolders\n",
        "from tensorflow.keras.preprocessing.image import ImageDataGenerator\n",
        "from tensorflow.keras.models import Sequential\n",
        "from tensorflow.keras.layers import Conv2D, MaxPool2D, Dense, Flatten, Dropout\n",
        "from google.colab import files\n",
        "from tensorflow.keras.preprocessing import image\n",
        "import matplotlib.pyplot as plt\n",
        "import matplotlib.image as mpimg\n",
        "import numpy as np\n"
      ],
      "metadata": {
        "id": "KeuKBH_-AdPe"
      },
      "execution_count": 123,
      "outputs": []
    },
    {
      "cell_type": "code",
      "execution_count": null,
      "metadata": {
        "colab": {
          "base_uri": "https://localhost:8080/"
        },
        "id": "5IBKhy-2N1YE",
        "outputId": "20a61aa5-e2f8-4bfc-8d58-588d02cb9a8e"
      },
      "outputs": [
        {
          "output_type": "stream",
          "name": "stderr",
          "text": [
            "Copying files: 2188 files [00:03, 556.06 files/s]"
          ]
        },
        {
          "output_type": "stream",
          "name": "stdout",
          "text": [
            "3\n",
            "3\n"
          ]
        },
        {
          "output_type": "stream",
          "name": "stderr",
          "text": [
            "\n"
          ]
        }
      ],
      "source": [
        "local_zip = '/content/drive/MyDrive/rockpaperscissors.zip'\n",
        "zip_ref = zipfile.ZipFile(local_zip, 'r')\n",
        "zip_ref.extractall('/tmp')\n",
        "zip_ref.close()\n",
        "\n",
        "splitfolders.ratio('/tmp/rockpaperscissors/rps-cv-images', output=\"/tmp/rockpaperscissors/split\", seed=1, ratio=(0.6, 0.4))\n",
        "\n",
        "base_dir = '/tmp/rockpaperscissors/split'\n",
        "training_dir = os.path.join(base_dir, 'train')\n",
        "validation_dir = os.path.join(base_dir, 'val')\n",
        "\n",
        "print(len(os.listdir(training_dir)))\n",
        "print(len(os.listdir(validation_dir)))"
      ]
    },
    {
      "cell_type": "code",
      "source": [
        "print(os.listdir('/tmp/rockpaperscissors/train'))\n",
        "print(os.listdir('/tmp/rockpaperscissors/val'))"
      ],
      "metadata": {
        "colab": {
          "base_uri": "https://localhost:8080/"
        },
        "id": "0omt1UmWyrOM",
        "outputId": "8fa13bc8-0782-41f9-d7ca-bd18341d2982"
      },
      "execution_count": null,
      "outputs": [
        {
          "output_type": "stream",
          "name": "stdout",
          "text": [
            "['rock', 'paper', 'scissors']\n",
            "['rock', 'paper', 'scissors']\n"
          ]
        }
      ]
    },
    {
      "cell_type": "code",
      "execution_count": null,
      "metadata": {
        "colab": {
          "base_uri": "https://localhost:8080/"
        },
        "id": "LBj6KlClRgNK",
        "outputId": "2fd08421-19b9-459a-ea7f-c24d3540321d"
      },
      "outputs": [
        {
          "output_type": "stream",
          "name": "stdout",
          "text": [
            "Found 1312 images belonging to 3 classes.\n",
            "Found 873 images belonging to 3 classes.\n"
          ]
        }
      ],
      "source": [
        "train_datagen = ImageDataGenerator(\n",
        "                    rescale=1./255,\n",
        "                    rotation_range=20,\n",
        "                    horizontal_flip=True,\n",
        "                    shear_range = 0.2,\n",
        "                    fill_mode = 'nearest')\n",
        "\n",
        "validation_datagen = ImageDataGenerator(\n",
        "    rescale = 1./255,\n",
        "    validation_split=0.9999,\n",
        "    horizontal_flip=True,\n",
        "    shear_range = 0.2,\n",
        "    fill_mode = 'nearest'\n",
        ")\n",
        "\n",
        "\n",
        "\n",
        "train_generator = train_datagen.flow_from_directory(\n",
        "    training_dir,\n",
        "    target_size=(150, 150),\n",
        "    batch_size=32,\n",
        "    class_mode='categorical',\n",
        "    subset='training',\n",
        ")\n",
        "\n",
        "validation_generator = validation_datagen.flow_from_directory(\n",
        "    validation_dir,\n",
        "    target_size=(150, 150),\n",
        "    batch_size=32,\n",
        "    class_mode='categorical',\n",
        "    subset='validation',\n",
        ")\n",
        "\n"
      ]
    },
    {
      "cell_type": "code",
      "execution_count": null,
      "metadata": {
        "colab": {
          "base_uri": "https://localhost:8080/"
        },
        "id": "DoE15PnmkVZL",
        "outputId": "10a19a92-2924-40b3-8ed6-c7d54d7d9146"
      },
      "outputs": [
        {
          "output_type": "stream",
          "name": "stdout",
          "text": [
            "{'paper': 0, 'rock': 1, 'scissors': 2}\n",
            "{'paper': 0, 'rock': 1, 'scissors': 2}\n"
          ]
        }
      ],
      "source": [
        "print(train_generator.class_indices)\n",
        "print(validation_generator.class_indices)"
      ]
    },
    {
      "cell_type": "code",
      "execution_count": null,
      "metadata": {
        "colab": {
          "base_uri": "https://localhost:8080/"
        },
        "id": "ijqHW_IrTcYS",
        "outputId": "e96eabd4-2ad1-42ba-fa63-8ab0a6cbc71a"
      },
      "outputs": [
        {
          "output_type": "stream",
          "name": "stdout",
          "text": [
            "Model: \"sequential_2\"\n",
            "_________________________________________________________________\n",
            " Layer (type)                Output Shape              Param #   \n",
            "=================================================================\n",
            " conv2d_8 (Conv2D)           (None, 118, 118, 16)      448       \n",
            "                                                                 \n",
            " max_pooling2d_8 (MaxPoolin  (None, 59, 59, 16)        0         \n",
            " g2D)                                                            \n",
            "                                                                 \n",
            " dropout_8 (Dropout)         (None, 59, 59, 16)        0         \n",
            "                                                                 \n",
            " conv2d_9 (Conv2D)           (None, 57, 57, 32)        4640      \n",
            "                                                                 \n",
            " max_pooling2d_9 (MaxPoolin  (None, 28, 28, 32)        0         \n",
            " g2D)                                                            \n",
            "                                                                 \n",
            " dropout_9 (Dropout)         (None, 28, 28, 32)        0         \n",
            "                                                                 \n",
            " conv2d_10 (Conv2D)          (None, 26, 26, 64)        18496     \n",
            "                                                                 \n",
            " max_pooling2d_10 (MaxPooli  (None, 13, 13, 64)        0         \n",
            " ng2D)                                                           \n",
            "                                                                 \n",
            " dropout_10 (Dropout)        (None, 13, 13, 64)        0         \n",
            "                                                                 \n",
            " conv2d_11 (Conv2D)          (None, 11, 11, 128)       73856     \n",
            "                                                                 \n",
            " max_pooling2d_11 (MaxPooli  (None, 5, 5, 128)         0         \n",
            " ng2D)                                                           \n",
            "                                                                 \n",
            " dropout_11 (Dropout)        (None, 5, 5, 128)         0         \n",
            "                                                                 \n",
            " flatten_2 (Flatten)         (None, 3200)              0         \n",
            "                                                                 \n",
            " dense_4 (Dense)             (None, 512)               1638912   \n",
            "                                                                 \n",
            " dense_5 (Dense)             (None, 3)                 1539      \n",
            "                                                                 \n",
            "=================================================================\n",
            "Total params: 1737891 (6.63 MB)\n",
            "Trainable params: 1737891 (6.63 MB)\n",
            "Non-trainable params: 0 (0.00 Byte)\n",
            "_________________________________________________________________\n"
          ]
        }
      ],
      "source": [
        "model = Sequential()\n",
        "\n",
        "model.add(Conv2D(16, (3,3), activation='relu', input_shape=(150, 150, 3)))\n",
        "model.add(MaxPool2D(2,2))\n",
        "model.add(Dropout(0.25))\n",
        "model.add(Conv2D(32,(3,3), activation='relu'))\n",
        "model.add(MaxPool2D(2,2))\n",
        "model.add(Dropout(0.25))\n",
        "model.add(Conv2D(64, (3,3), activation='relu'))\n",
        "model.add(MaxPool2D(2,2))\n",
        "model.add(Dropout(0.25))\n",
        "model.add(Conv2D(128, (3,3), activation='relu'))\n",
        "model.add(MaxPool2D(2,2))\n",
        "model.add(Dropout(0.25))\n",
        "model.add(Flatten())\n",
        "model.add(Dense(512, activation='relu'))\n",
        "model.add(Dense(3, activation='softmax'))\n",
        "\n",
        "model.summary()"
      ]
    },
    {
      "cell_type": "code",
      "execution_count": null,
      "metadata": {
        "id": "yFVtf2B9WnLe"
      },
      "outputs": [],
      "source": [
        "model.compile(optimizer='adam', loss='categorical_crossentropy', metrics=['accuracy'])"
      ]
    },
    {
      "cell_type": "code",
      "execution_count": null,
      "metadata": {
        "colab": {
          "base_uri": "https://localhost:8080/"
        },
        "id": "G2u4ts6mW5qA",
        "outputId": "3b1e314a-aa66-4d06-f3b3-e3ca9047ee59"
      },
      "outputs": [
        {
          "output_type": "stream",
          "name": "stdout",
          "text": [
            "Epoch 1/16\n",
            "20/20 - 70s - loss: 1.1370 - accuracy: 0.3386 - val_loss: 1.0955 - val_accuracy: 0.3187 - 70s/epoch - 3s/step\n",
            "Epoch 2/16\n",
            "20/20 - 16s - loss: 1.0364 - accuracy: 0.4906 - val_loss: 0.9235 - val_accuracy: 0.6000 - 16s/epoch - 782ms/step\n",
            "Epoch 3/16\n",
            "20/20 - 16s - loss: 0.9040 - accuracy: 0.6266 - val_loss: 0.9026 - val_accuracy: 0.6562 - 16s/epoch - 777ms/step\n",
            "Epoch 4/16\n",
            "20/20 - 16s - loss: 0.6409 - accuracy: 0.7488 - val_loss: 0.5134 - val_accuracy: 0.8562 - 16s/epoch - 780ms/step\n",
            "Epoch 5/16\n",
            "20/20 - 16s - loss: 0.5641 - accuracy: 0.7953 - val_loss: 0.5688 - val_accuracy: 0.8625 - 16s/epoch - 804ms/step\n",
            "Epoch 6/16\n",
            "20/20 - 16s - loss: 0.3208 - accuracy: 0.9047 - val_loss: 0.3575 - val_accuracy: 0.8750 - 16s/epoch - 795ms/step\n",
            "Epoch 7/16\n",
            "20/20 - 16s - loss: 0.3126 - accuracy: 0.8781 - val_loss: 0.4062 - val_accuracy: 0.8687 - 16s/epoch - 800ms/step\n",
            "Epoch 8/16\n",
            "20/20 - 17s - loss: 0.2604 - accuracy: 0.9125 - val_loss: 0.2974 - val_accuracy: 0.9062 - 17s/epoch - 855ms/step\n",
            "Epoch 9/16\n",
            "20/20 - 15s - loss: 0.2201 - accuracy: 0.9285 - val_loss: 0.2748 - val_accuracy: 0.9187 - 15s/epoch - 772ms/step\n",
            "Epoch 10/16\n",
            "20/20 - 15s - loss: 0.2007 - accuracy: 0.9205 - val_loss: 0.2127 - val_accuracy: 0.9438 - 15s/epoch - 765ms/step\n",
            "Epoch 11/16\n",
            "20/20 - 17s - loss: 0.1972 - accuracy: 0.9391 - val_loss: 0.2899 - val_accuracy: 0.9125 - 17s/epoch - 872ms/step\n",
            "Epoch 12/16\n",
            "20/20 - 15s - loss: 0.1869 - accuracy: 0.9359 - val_loss: 0.2392 - val_accuracy: 0.9000 - 15s/epoch - 767ms/step\n",
            "Epoch 13/16\n",
            "20/20 - 15s - loss: 0.2178 - accuracy: 0.9203 - val_loss: 0.2253 - val_accuracy: 0.9250 - 15s/epoch - 757ms/step\n",
            "Epoch 14/16\n",
            "20/20 - 19s - loss: 0.1800 - accuracy: 0.9406 - val_loss: 0.2899 - val_accuracy: 0.9062 - 19s/epoch - 938ms/step\n",
            "Epoch 15/16\n",
            "20/20 - 17s - loss: 0.1456 - accuracy: 0.9563 - val_loss: 0.1836 - val_accuracy: 0.9438 - 17s/epoch - 857ms/step\n",
            "Epoch 16/16\n",
            "20/20 - 19s - loss: 0.1496 - accuracy: 0.9516 - val_loss: 0.1818 - val_accuracy: 0.9625 - 19s/epoch - 935ms/step\n"
          ]
        }
      ],
      "source": [
        "pred = model.fit(train_generator,\n",
        "          epochs=16,\n",
        "          batch_size=32,\n",
        "          validation_steps=5,\n",
        "          verbose=2,\n",
        "          validation_data=validation_generator,\n",
        "          steps_per_epoch=20\n",
        "          )"
      ]
    },
    {
      "cell_type": "code",
      "execution_count": null,
      "metadata": {
        "colab": {
          "base_uri": "https://localhost:8080/"
        },
        "id": "CX1xOkVjdFgE",
        "outputId": "83aa5331-3196-4961-f3af-277bd1d1d869"
      },
      "outputs": [
        {
          "output_type": "stream",
          "name": "stdout",
          "text": [
            "55/55 [==============================] - 21s 378ms/step - loss: 0.1907 - accuracy: 0.9388\n",
            "10/10 [==============================] - 2s 150ms/step - loss: 0.1678 - accuracy: 0.9633\n",
            "Train acc score : 0.9388222098350525, Validation acc score : 0.9633333086967468\n"
          ]
        }
      ],
      "source": [
        "train_acc_score = model.evaluate(train_generator, batch_size=20)\n",
        "validate_acc_score = model.evaluate(validation_generator, batch_size=20)\n",
        "\n",
        "print(f'Train acc score : {train_acc_score[1]}, Validation acc score : {validate_acc_score[1]}')"
      ]
    },
    {
      "cell_type": "code",
      "execution_count": 125,
      "metadata": {
        "id": "le_nx2jliKBU",
        "colab": {
          "base_uri": "https://localhost:8080/",
          "height": 542
        },
        "outputId": "272cee30-713f-44ad-a0c4-0b246769427c"
      },
      "outputs": [
        {
          "output_type": "display_data",
          "data": {
            "text/plain": [
              "<IPython.core.display.HTML object>"
            ],
            "text/html": [
              "\n",
              "     <input type=\"file\" id=\"files-f0a626b0-b67e-401e-91fa-fccd67e41de0\" name=\"files[]\" multiple disabled\n",
              "        style=\"border:none\" />\n",
              "     <output id=\"result-f0a626b0-b67e-401e-91fa-fccd67e41de0\">\n",
              "      Upload widget is only available when the cell has been executed in the\n",
              "      current browser session. Please rerun this cell to enable.\n",
              "      </output>\n",
              "      <script>// Copyright 2017 Google LLC\n",
              "//\n",
              "// Licensed under the Apache License, Version 2.0 (the \"License\");\n",
              "// you may not use this file except in compliance with the License.\n",
              "// You may obtain a copy of the License at\n",
              "//\n",
              "//      http://www.apache.org/licenses/LICENSE-2.0\n",
              "//\n",
              "// Unless required by applicable law or agreed to in writing, software\n",
              "// distributed under the License is distributed on an \"AS IS\" BASIS,\n",
              "// WITHOUT WARRANTIES OR CONDITIONS OF ANY KIND, either express or implied.\n",
              "// See the License for the specific language governing permissions and\n",
              "// limitations under the License.\n",
              "\n",
              "/**\n",
              " * @fileoverview Helpers for google.colab Python module.\n",
              " */\n",
              "(function(scope) {\n",
              "function span(text, styleAttributes = {}) {\n",
              "  const element = document.createElement('span');\n",
              "  element.textContent = text;\n",
              "  for (const key of Object.keys(styleAttributes)) {\n",
              "    element.style[key] = styleAttributes[key];\n",
              "  }\n",
              "  return element;\n",
              "}\n",
              "\n",
              "// Max number of bytes which will be uploaded at a time.\n",
              "const MAX_PAYLOAD_SIZE = 100 * 1024;\n",
              "\n",
              "function _uploadFiles(inputId, outputId) {\n",
              "  const steps = uploadFilesStep(inputId, outputId);\n",
              "  const outputElement = document.getElementById(outputId);\n",
              "  // Cache steps on the outputElement to make it available for the next call\n",
              "  // to uploadFilesContinue from Python.\n",
              "  outputElement.steps = steps;\n",
              "\n",
              "  return _uploadFilesContinue(outputId);\n",
              "}\n",
              "\n",
              "// This is roughly an async generator (not supported in the browser yet),\n",
              "// where there are multiple asynchronous steps and the Python side is going\n",
              "// to poll for completion of each step.\n",
              "// This uses a Promise to block the python side on completion of each step,\n",
              "// then passes the result of the previous step as the input to the next step.\n",
              "function _uploadFilesContinue(outputId) {\n",
              "  const outputElement = document.getElementById(outputId);\n",
              "  const steps = outputElement.steps;\n",
              "\n",
              "  const next = steps.next(outputElement.lastPromiseValue);\n",
              "  return Promise.resolve(next.value.promise).then((value) => {\n",
              "    // Cache the last promise value to make it available to the next\n",
              "    // step of the generator.\n",
              "    outputElement.lastPromiseValue = value;\n",
              "    return next.value.response;\n",
              "  });\n",
              "}\n",
              "\n",
              "/**\n",
              " * Generator function which is called between each async step of the upload\n",
              " * process.\n",
              " * @param {string} inputId Element ID of the input file picker element.\n",
              " * @param {string} outputId Element ID of the output display.\n",
              " * @return {!Iterable<!Object>} Iterable of next steps.\n",
              " */\n",
              "function* uploadFilesStep(inputId, outputId) {\n",
              "  const inputElement = document.getElementById(inputId);\n",
              "  inputElement.disabled = false;\n",
              "\n",
              "  const outputElement = document.getElementById(outputId);\n",
              "  outputElement.innerHTML = '';\n",
              "\n",
              "  const pickedPromise = new Promise((resolve) => {\n",
              "    inputElement.addEventListener('change', (e) => {\n",
              "      resolve(e.target.files);\n",
              "    });\n",
              "  });\n",
              "\n",
              "  const cancel = document.createElement('button');\n",
              "  inputElement.parentElement.appendChild(cancel);\n",
              "  cancel.textContent = 'Cancel upload';\n",
              "  const cancelPromise = new Promise((resolve) => {\n",
              "    cancel.onclick = () => {\n",
              "      resolve(null);\n",
              "    };\n",
              "  });\n",
              "\n",
              "  // Wait for the user to pick the files.\n",
              "  const files = yield {\n",
              "    promise: Promise.race([pickedPromise, cancelPromise]),\n",
              "    response: {\n",
              "      action: 'starting',\n",
              "    }\n",
              "  };\n",
              "\n",
              "  cancel.remove();\n",
              "\n",
              "  // Disable the input element since further picks are not allowed.\n",
              "  inputElement.disabled = true;\n",
              "\n",
              "  if (!files) {\n",
              "    return {\n",
              "      response: {\n",
              "        action: 'complete',\n",
              "      }\n",
              "    };\n",
              "  }\n",
              "\n",
              "  for (const file of files) {\n",
              "    const li = document.createElement('li');\n",
              "    li.append(span(file.name, {fontWeight: 'bold'}));\n",
              "    li.append(span(\n",
              "        `(${file.type || 'n/a'}) - ${file.size} bytes, ` +\n",
              "        `last modified: ${\n",
              "            file.lastModifiedDate ? file.lastModifiedDate.toLocaleDateString() :\n",
              "                                    'n/a'} - `));\n",
              "    const percent = span('0% done');\n",
              "    li.appendChild(percent);\n",
              "\n",
              "    outputElement.appendChild(li);\n",
              "\n",
              "    const fileDataPromise = new Promise((resolve) => {\n",
              "      const reader = new FileReader();\n",
              "      reader.onload = (e) => {\n",
              "        resolve(e.target.result);\n",
              "      };\n",
              "      reader.readAsArrayBuffer(file);\n",
              "    });\n",
              "    // Wait for the data to be ready.\n",
              "    let fileData = yield {\n",
              "      promise: fileDataPromise,\n",
              "      response: {\n",
              "        action: 'continue',\n",
              "      }\n",
              "    };\n",
              "\n",
              "    // Use a chunked sending to avoid message size limits. See b/62115660.\n",
              "    let position = 0;\n",
              "    do {\n",
              "      const length = Math.min(fileData.byteLength - position, MAX_PAYLOAD_SIZE);\n",
              "      const chunk = new Uint8Array(fileData, position, length);\n",
              "      position += length;\n",
              "\n",
              "      const base64 = btoa(String.fromCharCode.apply(null, chunk));\n",
              "      yield {\n",
              "        response: {\n",
              "          action: 'append',\n",
              "          file: file.name,\n",
              "          data: base64,\n",
              "        },\n",
              "      };\n",
              "\n",
              "      let percentDone = fileData.byteLength === 0 ?\n",
              "          100 :\n",
              "          Math.round((position / fileData.byteLength) * 100);\n",
              "      percent.textContent = `${percentDone}% done`;\n",
              "\n",
              "    } while (position < fileData.byteLength);\n",
              "  }\n",
              "\n",
              "  // All done.\n",
              "  yield {\n",
              "    response: {\n",
              "      action: 'complete',\n",
              "    }\n",
              "  };\n",
              "}\n",
              "\n",
              "scope.google = scope.google || {};\n",
              "scope.google.colab = scope.google.colab || {};\n",
              "scope.google.colab._files = {\n",
              "  _uploadFiles,\n",
              "  _uploadFilesContinue,\n",
              "};\n",
              "})(self);\n",
              "</script> "
            ]
          },
          "metadata": {}
        },
        {
          "output_type": "stream",
          "name": "stdout",
          "text": [
            "Saving 00nKV8oHuTGi20gq.png to 00nKV8oHuTGi20gq (5).png\n",
            "1/1 [==============================] - 0s 168ms/step\n",
            "00nKV8oHuTGi20gq (5).png\n",
            "rock\n"
          ]
        },
        {
          "output_type": "display_data",
          "data": {
            "text/plain": [
              "<Figure size 640x480 with 1 Axes>"
            ],
            "image/png": "[encoded data removed]"
          },
          "metadata": {}
        }
      ],
      "source": [
        "%matplotlib inline\n",
        "uploaded = files.upload()\n",
        "\n",
        "for fn in uploaded.keys():\n",
        "  path = fn\n",
        "  img = image.load_img(path, target_size=(120,120))\n",
        "\n",
        "  imgplot = plt.imshow(img)\n",
        "  x = image.img_to_array(img)\n",
        "  x = np.expand_dims(x, axis=0)\n",
        "\n",
        "  images = np.vstack([x])\n",
        "  classes = model.predict(images, batch_size=32)\n",
        "  print(fn)\n",
        "  if classes[0,0] == 1.0:\n",
        "      print('paper')\n",
        "  elif classes[0,1] == 1.0:\n",
        "      print('rock')\n",
        "  else:\n",
        "      print('scissors')\n",
        "\n"
      ]
    }
  ],
  "metadata": {
    "colab": {
      "provenance": []
    },
    "kernelspec": {
      "display_name": "Python 3",
      "name": "python3"
    },
    "language_info": {
      "name": "python"
    }
  },
  "nbformat": 4,
  "nbformat_minor": 0
}